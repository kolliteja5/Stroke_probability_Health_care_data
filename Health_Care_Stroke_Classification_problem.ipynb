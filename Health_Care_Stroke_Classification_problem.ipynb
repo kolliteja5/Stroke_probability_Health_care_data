{
 "cells": [
  {
   "cell_type": "code",
   "execution_count": 13,
   "metadata": {},
   "outputs": [],
   "source": [
    "#changing the directory to locate the csv file \n",
    "import os\n",
    "#using 'chdir' option to change the directory\n",
    "os.chdir(r'F:\\projects\\Spark with Data Science_ Heath Care Data set')\n",
    "#print current wworking directory:\n",
    "os.getcwd()\n",
    "\n",
    "#importing SparkSession\n",
    "from pyspark.sql import SparkSession\n",
    "import pyspark.sql as sparksql\n",
    "#creating an appname= 'stroke' using SparkSession\n",
    "spark = SparkSession.builder.appName('stroke').getOrCreate()\n",
    "\n",
    "#reading the csv file\n",
    "train = spark.read.csv('Health_Care_dataset_train_2v.csv',\n",
    "                      inferSchema=True,header=True)\n"
   ]
  },
  {
   "cell_type": "code",
   "execution_count": 14,
   "metadata": {},
   "outputs": [
    {
     "name": "stdout",
     "output_type": "stream",
     "text": [
      "root\n",
      " |-- id: integer (nullable = true)\n",
      " |-- gender: string (nullable = true)\n",
      " |-- age: double (nullable = true)\n",
      " |-- hypertension: integer (nullable = true)\n",
      " |-- heart_disease: integer (nullable = true)\n",
      " |-- ever_married: string (nullable = true)\n",
      " |-- work_type: string (nullable = true)\n",
      " |-- Residence_type: string (nullable = true)\n",
      " |-- avg_glucose_level: double (nullable = true)\n",
      " |-- bmi: double (nullable = true)\n",
      " |-- smoking_status: string (nullable = true)\n",
      " |-- stroke: integer (nullable = true)\n",
      "\n"
     ]
    }
   ],
   "source": [
    "train.printSchema()"
   ]
  },
  {
   "cell_type": "code",
   "execution_count": 15,
   "metadata": {},
   "outputs": [
    {
     "name": "stdout",
     "output_type": "stream",
     "text": [
      "+------+-----+\n",
      "|stroke|count|\n",
      "+------+-----+\n",
      "|     1|  783|\n",
      "|     0|42617|\n",
      "+------+-----+\n",
      "\n"
     ]
    }
   ],
   "source": [
    "#combinning the instances of Stroke column\n",
    "train.groupBy('stroke').count().show()"
   ]
  },
  {
   "cell_type": "code",
   "execution_count": 17,
   "metadata": {},
   "outputs": [
    {
     "data": {
      "text/plain": [
       "DataFrame[summary: string, id: string, gender: string, age: string, hypertension: string, heart_disease: string, ever_married: string, work_type: string, Residence_type: string, avg_glucose_level: string, bmi: string, smoking_status: string, stroke: string]"
      ]
     },
     "execution_count": 17,
     "metadata": {},
     "output_type": "execute_result"
    }
   ],
   "source": [
    "#decribe the data set\n",
    "train.describe()"
   ]
  },
  {
   "cell_type": "code",
   "execution_count": 19,
   "metadata": {},
   "outputs": [],
   "source": [
    "#checking the type of work which has more cases of strokes\n",
    "train.createOrReplaceTempView('table')"
   ]
  },
  {
   "cell_type": "code",
   "execution_count": 22,
   "metadata": {},
   "outputs": [
    {
     "name": "stdout",
     "output_type": "stream",
     "text": [
      "+-------------+---------------+\n",
      "|    work_type|work_type_count|\n",
      "+-------------+---------------+\n",
      "|      Private|            441|\n",
      "|Self-employed|            251|\n",
      "|     Govt_job|             89|\n",
      "|     children|              2|\n",
      "+-------------+---------------+\n",
      "\n"
     ]
    }
   ],
   "source": [
    "#creating a table work_type and work_type_count for which stroke is 1\n",
    "#SQL query:\n",
    "spark.sql(\"SELECT work_type, count(work_type) as work_type_count FROM table WHERE stroke == 1 GROUP BY work_type ORDER BY work_type_count DESC\").show()"
   ]
  },
  {
   "cell_type": "code",
   "execution_count": 24,
   "metadata": {},
   "outputs": [
    {
     "name": "stdout",
     "output_type": "stream",
     "text": [
      "+------+------------+-------------------+\n",
      "|gender|count_gender|            percent|\n",
      "+------+------------+-------------------+\n",
      "|Female|       25665|  59.13594470046083|\n",
      "| Other|          11|0.02534562211981567|\n",
      "|  Male|       17724|  40.83870967741935|\n",
      "+------+------------+-------------------+\n",
      "\n"
     ]
    }
   ],
   "source": [
    "#finding the persons who participated in clinic mesurement\n",
    "spark.sql(\"SELECT gender, count(gender) as count_gender,count(gender)*100/sum(count(gender)) over() as percent FROM table GROUP BY gender\").show()"
   ]
  },
  {
   "cell_type": "code",
   "execution_count": 26,
   "metadata": {},
   "outputs": [
    {
     "name": "stdout",
     "output_type": "stream",
     "text": [
      "+------+-------------+----------------+\n",
      "|gender|count(gender)|      percentage|\n",
      "+------+-------------+----------------+\n",
      "|  Male|          352|1.98600767321146|\n",
      "+------+-------------+----------------+\n",
      "\n"
     ]
    }
   ],
   "source": [
    "#retriving information to know how many female/males have a stroke:\n",
    "#retriving the male stroke infomation\n",
    "spark.sql(\"SELECT gender, count(gender), (COUNT(gender)*100.0)/(SELECT count(gender) FROM table WHERE gender == 'Male')as percentage FROM table WHERE stroke ='1' and gender = 'Male' GROUP BY gender\").show()"
   ]
  },
  {
   "cell_type": "code",
   "execution_count": 27,
   "metadata": {},
   "outputs": [
    {
     "name": "stdout",
     "output_type": "stream",
     "text": [
      "+------+-------------+----------------+\n",
      "|gender|count(gender)|      percentage|\n",
      "+------+-------------+----------------+\n",
      "|Female|          431|1.67932982661212|\n",
      "+------+-------------+----------------+\n",
      "\n"
     ]
    }
   ],
   "source": [
    "#retriving the female stroke information:\n",
    "spark.sql(\"SELECT gender, count(gender), (COUNT(gender)*100.0)/ (SELECT count(gender) FROM table WHERE gender == 'Female') as percentage FROM table WHERE stroke = '1' and gender = 'Female' GROUP BY gender\").show()"
   ]
  },
  {
   "cell_type": "code",
   "execution_count": 28,
   "metadata": {},
   "outputs": [
    {
     "name": "stdout",
     "output_type": "stream",
     "text": [
      "+----+---------+\n",
      "| age|age_count|\n",
      "+----+---------+\n",
      "|79.0|       70|\n",
      "|78.0|       57|\n",
      "|80.0|       49|\n",
      "|81.0|       43|\n",
      "|82.0|       36|\n",
      "|70.0|       25|\n",
      "|74.0|       24|\n",
      "|77.0|       24|\n",
      "|76.0|       24|\n",
      "|67.0|       23|\n",
      "|75.0|       23|\n",
      "|72.0|       21|\n",
      "|59.0|       20|\n",
      "|69.0|       20|\n",
      "|68.0|       20|\n",
      "|71.0|       19|\n",
      "|57.0|       19|\n",
      "|63.0|       18|\n",
      "|65.0|       18|\n",
      "|66.0|       17|\n",
      "+----+---------+\n",
      "only showing top 20 rows\n",
      "\n"
     ]
    }
   ],
   "source": [
    "#retriving information based on age if it has influence on stroke \n",
    "#finding what is the risky age:\n",
    "\n",
    "spark.sql(\"SELECT age , count(age) as age_count FROM table WHERE stroke == 1 GROUP BY age ORDER BY age_count DESC\").show()"
   ]
  },
  {
   "cell_type": "code",
   "execution_count": 32,
   "metadata": {},
   "outputs": [
    {
     "data": {
      "text/plain": [
       "708"
      ]
     },
     "execution_count": 32,
     "metadata": {},
     "output_type": "execute_result"
    }
   ],
   "source": [
    "#calculating the number of strokes cases for people after 50 years:\n",
    "train.filter((train['stroke'] == 1) &(train['age'] > '50')).count()"
   ]
  },
  {
   "cell_type": "code",
   "execution_count": 35,
   "metadata": {},
   "outputs": [],
   "source": [
    "#cleaning data:\n",
    "#dealing with categorical and missing values:\n",
    "#there are missing values for smoking_status andd bmi paramaters\n",
    "#fill the missing values:\n",
    "train_f = train.na.fill('No Info', subset = ['smoking_status'])\n",
    "\n",
    "#fill in miss values with mean\n",
    "from pyspark.sql.functions import mean\n",
    "mean = train_f.select(mean(train_f['bmi'])).collect()\n",
    "mean_bmi = mean[0][0]\n",
    "train_f = train_f.na.fill(mean_bmi,['bmi'])"
   ]
  },
  {
   "cell_type": "code",
   "execution_count": 66,
   "metadata": {},
   "outputs": [
    {
     "name": "stderr",
     "output_type": "stream",
     "text": [
      "Exception ignored in: <function JavaWrapper.__del__ at 0x0000027C056C9B70>\n",
      "Traceback (most recent call last):\n",
      "  File \"C:\\opt\\spark\\spark-2.4.2-bin-hadoop2.7\\python\\pyspark\\ml\\wrapper.py\", line 40, in __del__\n",
      "    if SparkContext._active_spark_context and self._java_obj is not None:\n",
      "AttributeError: 'StringIndexer' object has no attribute '_java_obj'\n"
     ]
    }
   ],
   "source": [
    "#since ML algorithms cannot work directly with categorical data, lets encode\n",
    "#algorithm to ccontinues features to use categorical features\n",
    "from pyspark.ml.feature import (VectorAssembler, OneHotEncoder, StringIndexer)\n",
    "\n",
    "gender_indexer = StringIndexer(inputCol = 'gender',outputCol ='genderIndex')\n",
    "gender_encoder = OneHotEncoder(inputCol = 'genderIndex',outputCol = 'genderVec')\n",
    "\n",
    "ever_married_indexer = StringIndexer(inputCol = 'ever_married', outputCol = 'ever_marriedIndex')\n",
    "ever_married_encoder  =OneHotEncoder(inputCol = 'ever_marriedIndex',outputCol = 'ever_marriedVec')\n",
    "\n",
    "work_type_indexer = StringIndexer(inputCol ='work_type', outputCol = 'work_typeIndex')\n",
    "work_type_encoder = OneHotEncoder(inputCol = 'work_typeIndex', outputCol = 'work_typeVec')\n",
    "\n",
    "Residence_type_indexer = StringIndexer(inputCol = 'Residence_type', outputCol = 'Residence_typeIndex')\n",
    "Residence_type_encoder = OneHotEncoder(inputCol = 'Residence_typeIndex', outputCol = 'Residence_typeVec')\n",
    "\n",
    "smoking_status_indexer = StringIndexer(inputCol = 'smoking_status',outputCol = 'smoking_statusIndex')\n",
    "smoking_status_encoder = OneHotEncoder(inputCol = 'smoking_statusIndex', outputCol = 'smoking_statusVec')\n"
   ]
  },
  {
   "cell_type": "code",
   "execution_count": 67,
   "metadata": {},
   "outputs": [],
   "source": [
    "#create an assembler that combines columns into single vector columsn to train ML model.\n",
    "#using the vector columns that we got after one_hot_encoding\n",
    "\n",
    "assembler =VectorAssembler(inputCols =['genderVec','age','hypertension','heart_disease', 'ever_marriedVec', 'work_typeVec', 'Residence_typeVec', 'avg_glucose_level', 'bmi', 'smoking_statusVec'],outputCol = 'features')"
   ]
  },
  {
   "cell_type": "code",
   "execution_count": 68,
   "metadata": {},
   "outputs": [],
   "source": [
    "#creating an Decision Tree object by importing Decision tree classifier;\n",
    "from pyspark.ml.classification import DecisionTreeClassifier\n",
    "dtc = DecisionTreeClassifier(labelCol = 'stroke',featuresCol = 'features')"
   ]
  },
  {
   "cell_type": "code",
   "execution_count": 69,
   "metadata": {},
   "outputs": [],
   "source": [
    "#Spark ML represents such a workflow as a Pipeline \n",
    "#sequence oof PipeplineStages to run a specific order\n",
    "\n",
    "from pyspark.ml import Pipeline\n",
    "pipeline = Pipeline(stages = [gender_indexer,ever_married_indexer,\n",
    "                             work_type_indexer,Residence_type_indexer,\n",
    "                             smoking_status_indexer,gender_encoder,\n",
    "                             ever_married_encoder, work_type_encoder,\n",
    "                             Residence_type_encoder, smoking_status_encoder,assembler,dtc])"
   ]
  },
  {
   "cell_type": "code",
   "execution_count": 70,
   "metadata": {},
   "outputs": [],
   "source": [
    "#splitting dataset to train and test:\n",
    "train_data,test_data = train_f.randomSplit([0.7,0.3])"
   ]
  },
  {
   "cell_type": "code",
   "execution_count": 71,
   "metadata": {},
   "outputs": [],
   "source": [
    "#fitting the model using pipeline created \n",
    "model = pipeline.fit(train_data)"
   ]
  },
  {
   "cell_type": "code",
   "execution_count": 72,
   "metadata": {},
   "outputs": [],
   "source": [
    "#transform the test_data\n",
    "dtc_predictions = model.transform(test_data)"
   ]
  },
  {
   "cell_type": "code",
   "execution_count": 74,
   "metadata": {},
   "outputs": [
    {
     "name": "stdout",
     "output_type": "stream",
     "text": [
      "A Decision Tree algorithm had an accuracy of: 97.91%\n"
     ]
    }
   ],
   "source": [
    "#evaluating the model\n",
    "from pyspark.ml.evaluation import MulticlassClassificationEvaluator\n",
    "#select(prediction,true label) and compute test error:\n",
    "acc_evaluator = MulticlassClassificationEvaluator(labelCol = \"stroke\",\n",
    "                                                 predictionCol = \"prediction\",metricName = \"accuracy\")\n",
    "\n",
    "dtc_acc = acc_evaluator.evaluate(dtc_predictions)\n",
    "\n",
    "print('A Decision Tree algorithm had an accuracy of: {0:2.2f}%'.format(dtc_acc*100))"
   ]
  },
  {
   "cell_type": "code",
   "execution_count": null,
   "metadata": {},
   "outputs": [],
   "source": []
  },
  {
   "cell_type": "code",
   "execution_count": null,
   "metadata": {},
   "outputs": [],
   "source": []
  }
 ],
 "metadata": {
  "kernelspec": {
   "display_name": "Python 3",
   "language": "python",
   "name": "python3"
  },
  "language_info": {
   "codemirror_mode": {
    "name": "ipython",
    "version": 3
   },
   "file_extension": ".py",
   "mimetype": "text/x-python",
   "name": "python",
   "nbconvert_exporter": "python",
   "pygments_lexer": "ipython3",
   "version": "3.7.1"
  }
 },
 "nbformat": 4,
 "nbformat_minor": 2
}
